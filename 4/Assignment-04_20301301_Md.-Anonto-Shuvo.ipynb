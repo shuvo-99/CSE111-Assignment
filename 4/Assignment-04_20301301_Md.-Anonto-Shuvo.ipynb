{
 "cells": [
  {
   "cell_type": "markdown",
   "metadata": {},
   "source": [
    "##### Question 1"
   ]
  },
  {
   "cell_type": "code",
   "execution_count": 1,
   "metadata": {},
   "outputs": [
    {
     "name": "stdout",
     "output_type": "stream",
     "text": [
      "Enter the 1st value = 1\n",
      "Enter the operator = +\n",
      "Enter the 2nd value = 1\n",
      "Let’s Calculate!\n",
      "value 1: 1\n",
      "operator:  +\n",
      "value 2: 1\n",
      "Result:  2\n"
     ]
    }
   ],
   "source": [
    "class Calculator:\n",
    "    \n",
    "    def __init__(self,first,operator,second):\n",
    "        self.first=first\n",
    "        self.operator=operator\n",
    "        self.second=second\n",
    "        print(\"Let’s Calculate!\")\n",
    "        print(\"value 1:\",self.first)\n",
    "        print(\"operator: \",self.operator)\n",
    "        print(\"value 2:\",self.second)\n",
    "\n",
    "    def add(self):\n",
    "        print(\"Result: \",self.first+self.second)\n",
    "        \n",
    "    def subtract(self):\n",
    "        print(\"Result: \",self.first - self.second)\n",
    "    \n",
    "    def multiply(self):\n",
    "        print(\"Result: \",self.first * self.second)\n",
    "    \n",
    "    def divide(self):\n",
    "        print(\"Result: \",self.first / self.second)\n",
    "\n",
    "num1 = int(input(\"Enter the 1st value = \"))\n",
    "operator = input(\"Enter the operator = \")\n",
    "num2 = int(input(\"Enter the 2nd value = \"))\n",
    "\n",
    "c1 = Calculator(num1,operator,num2)\n",
    "\n",
    "if c1.operator==\"+\":\n",
    "    c1.add()\n",
    "\n",
    "elif c1.operator==\"-\":\n",
    "    c1.subtract()\n",
    "\n",
    "elif c1.operator==\"*\":\n",
    "    c1.multiply()\n",
    "\n",
    "else:\n",
    "    c1.divide()"
   ]
  },
  {
   "cell_type": "markdown",
   "metadata": {},
   "source": [
    "##### Question 2"
   ]
  },
  {
   "cell_type": "code",
   "execution_count": 2,
   "metadata": {},
   "outputs": [
    {
     "name": "stdout",
     "output_type": "stream",
     "text": [
      "Hello!\n",
      "Sam, you purchased 3 item(s):\n",
      "chips\n",
      "chocolate\n",
      "orange juice\n",
      "-----------------------------\n",
      "Hello David!\n",
      "David, you purchased 1 item(s):\n",
      "orange juice\n"
     ]
    }
   ],
   "source": [
    "class Customer:\n",
    "    \n",
    "    def __init__(self,name):\n",
    "        self.name = name\n",
    "        \n",
    "    def greet(self,name=None):\n",
    "        if name!=None:\n",
    "            print('Hello', self.name+'!')\n",
    "        else:\n",
    "            print('Hello!')\n",
    "    \n",
    "    def purchase(self,*items):\n",
    "        print(self.name+',','you purchased',len(items),'item(s):')\n",
    "        for i in items:\n",
    "            print(i)\n",
    "    \n",
    "    \n",
    "\n",
    "customer_1 = Customer(\"Sam\")\n",
    "customer_1.greet()\n",
    "customer_1.purchase(\"chips\", \"chocolate\", \"orange juice\")\n",
    "print(\"-----------------------------\")\n",
    "customer_2 = Customer(\"David\")\n",
    "customer_2.greet(\"David\")\n",
    "customer_2.purchase(\"orange juice\")"
   ]
  },
  {
   "cell_type": "markdown",
   "metadata": {},
   "source": [
    "##### Question 3"
   ]
  },
  {
   "cell_type": "code",
   "execution_count": 3,
   "metadata": {},
   "outputs": [
    {
     "name": "stdout",
     "output_type": "stream",
     "text": [
      "Kunfu is a Male Panda Bear who is 5 years old\n",
      "Pan Pan is a Female Panda Bear who is 3 years old\n",
      "Ming Ming is a Female Panda Bear who is 8 years old\n",
      "Pan Pan sleeps 10 hours daily and should have Broccoli Chicken\n",
      "Kunfu sleeps 4 hours daily and should have Mixed Veggies \n",
      "Ming Ming's duration is unknown thus should have only bambooo leaves \n"
     ]
    }
   ],
   "source": [
    "class Panda:\n",
    "    \n",
    "    def __init__(self,name,gender,age):\n",
    "        self.name = name\n",
    "        self.gender = gender\n",
    "        self.age = age\n",
    "    \n",
    "    def sleep(self,hour=None):\n",
    "        if hour==None:\n",
    "            return (self.name + \"'s duration is unknown thus should have only bambooo leaves \")\n",
    "        elif hour>=3 and hour<=5 :\n",
    "            return(self.name+\" sleeps \"+str(hour)+\" hours daily and should have Mixed Veggies \")\n",
    "        elif hour>=6 and hour <= 8:\n",
    "            return(self.name + \" sleeps \" + str(hour) + \" hours daily and should have Eggplant & Tofu\")\n",
    "        elif hour>=9 and hour<=11:\n",
    "            return(self.name + \" sleeps \" + str(hour) + \" hours daily and should have Broccoli Chicken\")   \n",
    "    \n",
    "    \n",
    "\n",
    "panda1 = Panda(\"Kunfu\",\"Male\", 5)\n",
    "panda2=Panda(\"Pan Pan\",\"Female\",3)\n",
    "panda3=Panda(\"Ming Ming\",\"Female\",8)\n",
    "print(\"{} is a {} Panda Bear who is {} years old\".format(panda1.name,panda1.gender,panda1.age))\n",
    "print(\"{} is a {} Panda Bear who is {} years old\".format(panda2.name,panda2.gender,panda2.age))\n",
    "print(\"{} is a {} Panda Bear who is {} years old\".format(panda3.name,panda3.gender,panda3.age))\n",
    "print(panda2.sleep(10))\n",
    "print(panda1.sleep(4))\n",
    "print(panda3.sleep())"
   ]
  },
  {
   "cell_type": "markdown",
   "metadata": {},
   "source": [
    "##### Question 4"
   ]
  },
  {
   "cell_type": "code",
   "execution_count": 4,
   "metadata": {},
   "outputs": [
    {
     "name": "stdout",
     "output_type": "stream",
     "text": [
      "White Cat is sitting\n",
      "Black Cat is sitting\n",
      "Brown Cat is jumping\n",
      "Red Cat is purring\n",
      "Blue Cat is sitting\n",
      "Purple Cat is jumping\n"
     ]
    }
   ],
   "source": [
    "class Cat():\n",
    "    \n",
    "    def __init__(self,color=\"White\",work=\"sitting\"):\n",
    "        self.color=color\n",
    "        self.work=work\n",
    "    \n",
    "    def printCat(self):\n",
    "        print(self.color+\" Cat is \"+self.work)\n",
    "    \n",
    "    def changeColor(self,color):\n",
    "        self.color=color\n",
    "\n",
    "c1 = Cat()\n",
    "c2 = Cat(\"Black\")\n",
    "c3 = Cat(\"Brown\", \"jumping\")\n",
    "c4 = Cat(\"Red\", \"purring\")\n",
    "c1.printCat()\n",
    "c2.printCat()\n",
    "c3.printCat()\n",
    "c4.printCat()\n",
    "c1.changeColor(\"Blue\")\n",
    "c3.changeColor(\"Purple\")\n",
    "c1.printCat()\n",
    "c3.printCat()"
   ]
  },
  {
   "cell_type": "markdown",
   "metadata": {},
   "source": [
    "##### Question 5"
   ]
  },
  {
   "cell_type": "code",
   "execution_count": 5,
   "metadata": {},
   "outputs": [
    {
     "name": "stdout",
     "output_type": "stream",
     "text": [
      "(0,0)\n",
      "(0,1)\n",
      "(-1,1)\n",
      "(-1,0)\n"
     ]
    }
   ],
   "source": [
    "class Vehicle():\n",
    "    def __init__(self):\n",
    "        self.X=0\n",
    "        self.Y=0\n",
    "    def moveUp(self):\n",
    "        self.Y=self.Y+1\n",
    "    def moveDown(self):\n",
    "        self.Y=self.Y-1\n",
    "    def moveRight(self):\n",
    "        self.X=self.X+1\n",
    "    def moveLeft(self):\n",
    "        self.X=self.X-1\n",
    "    def print_position(self):\n",
    "        print(\"(\"+str(self.X)+\",\"+str(self.Y)+\")\")\n",
    "car = Vehicle()\n",
    "car.print_position()\n",
    "car.moveUp()\n",
    "car.print_position()\n",
    "car.moveLeft()\n",
    "car.print_position()\n",
    "car.moveDown()\n",
    "car.print_position()\n",
    "car.moveRight()"
   ]
  },
  {
   "cell_type": "markdown",
   "metadata": {},
   "source": [
    "##### Question 6"
   ]
  },
  {
   "cell_type": "code",
   "execution_count": 1,
   "metadata": {},
   "outputs": [
    {
     "name": "stdout",
     "output_type": "stream",
     "text": [
      "Horray! A new programmer is born\n",
      "Name :  Ethen Hunt\n",
      "Language :  Java\n",
      "Experience :  10\n",
      "--------------------------\n",
      "Horray! A new programmer is born\n",
      "Name :  James Bond\n",
      "Language :  C++\n",
      "Experience :  7\n",
      "--------------------------\n",
      "Horray! A new programmer is born\n",
      "Name :  Jon Snow\n",
      "Language :  Python\n",
      "Experience :  4\n",
      "Updating experience of Jon Snow\n",
      "Name :  Jon Snow\n",
      "Language :  Python\n",
      "Experience :  9\n"
     ]
    }
   ],
   "source": [
    "class Programmer:\n",
    "    \n",
    "    def __init__(self,name,language,experience):\n",
    "        self.name = name\n",
    "        self.language = language\n",
    "        self.experience = experience\n",
    "        print(\"Horray! A new programmer is born\")\n",
    "        \n",
    "    def addExp(self,experience1):\n",
    "        self.experience = self.experience+experience1\n",
    "        print(\"Updating experience of\",self.name)\n",
    "    \n",
    "    \n",
    "    def printDetails(self):\n",
    "        print(\"Name : \",self.name)\n",
    "        print(\"Language : \",self.language)\n",
    "        print(\"Experience : \",self.experience)\n",
    "        \n",
    "p1 = Programmer(\"Ethen Hunt\", \"Java\", 10)\n",
    "p1.printDetails()\n",
    "print('--------------------------')\n",
    "p2 = Programmer(\"James Bond\", \"C++\", 7)\n",
    "p2.printDetails()\n",
    "print('--------------------------')\n",
    "p3 = Programmer(\"Jon Snow\", \"Python\", 4)\n",
    "p3.printDetails()\n",
    "p3.addExp(5)\n",
    "p3.printDetails()"
   ]
  },
  {
   "cell_type": "markdown",
   "metadata": {},
   "source": [
    "##### Question 7"
   ]
  },
  {
   "cell_type": "code",
   "execution_count": 2,
   "metadata": {},
   "outputs": [
    {
     "name": "stdout",
     "output_type": "stream",
     "text": [
      "Name : Harry Potter\n",
      "ID : 123\n",
      "Department : CSE\n",
      "Daily Effort :3hour(s)\n",
      "Suggestion: Keep up the good work!\n",
      "========================\n",
      "Name : John Wick\n",
      "ID : 456\n",
      "Department : BBA\n",
      "Daily Effort :2hour(s)\n",
      "Suggestion: Should give more effort\n",
      "========================\n",
      "Name : Naruto Uzumaki\n",
      "ID : 777\n",
      "Department : Ninja\n",
      "Daily Effort :6hour(s)\n",
      "Suggestion: Excellent! Now motivate others.\n"
     ]
    }
   ],
   "source": [
    "class Student:\n",
    "    \n",
    "    def __init__(self,name,id,department='CSE'):\n",
    "        self.name = name\n",
    "        self.id = id\n",
    "        self.department = department\n",
    "        \n",
    "    def dailyEffort(self,hour):\n",
    "        self.hour = hour\n",
    "        print(\"Name :\",self.name)\n",
    "        print(\"ID :\",self.id)\n",
    "        print(\"Department :\",self.department)\n",
    "        print(\"Daily Effort :\"+str(self.hour)+\"hour(s)\")\n",
    "    \n",
    "    def printDetails(self):\n",
    "        if self.hour<=2:\n",
    "            print(\"Suggestion: Should give more effort\")\n",
    "        \n",
    "        elif self.hour<=4:\n",
    "            print(\"Suggestion: Keep up the good work!\")\n",
    "            \n",
    "        else:\n",
    "            print(\"Suggestion: Excellent! Now motivate others.\")\n",
    "    \n",
    "        \n",
    "harry = Student('Harry Potter', 123)\n",
    "harry.dailyEffort(3)\n",
    "harry.printDetails()\n",
    "print('========================')\n",
    "john = Student(\"John Wick\", 456, \"BBA\")\n",
    "john.dailyEffort(2)\n",
    "john.printDetails()\n",
    "print('========================')\n",
    "naruto = Student(\"Naruto Uzumaki\", 777, \"Ninja\")\n",
    "naruto.dailyEffort(6)\n",
    "naruto.printDetails()"
   ]
  },
  {
   "cell_type": "markdown",
   "metadata": {},
   "source": [
    "##### Question 8"
   ]
  },
  {
   "cell_type": "code",
   "execution_count": 7,
   "metadata": {},
   "outputs": [
    {
     "name": "stdout",
     "output_type": "stream",
     "text": [
      "=========================\n",
      "Name: Thomas\n",
      "Age: 23\n",
      "Symptoms: Headache\n",
      "=========================\n",
      "Name: Carol\n",
      "Age: 20\n",
      "Symptoms: Vomiting, Coughing\n",
      "=========================\n",
      "Name: Mike\n",
      "Age: 25\n",
      "Symptoms: Fever, Headache, Coughing\n",
      "=========================\n"
     ]
    }
   ],
   "source": [
    "class Patient:\n",
    "    \n",
    "    def __init__(self,name,age):\n",
    "        self.name = name\n",
    "        self.age = age\n",
    "        \n",
    "    \n",
    "    def add_Symptom(self,*symptom):\n",
    "        self.symptom = symptom    \n",
    "    \n",
    "    def printPatientDetail(self):\n",
    "        print('Name:',self.name)\n",
    "        print('Age:',self.age)\n",
    "        s = ''\n",
    "        for i in self.symptom:\n",
    "            s = s + i + ', '\n",
    "            \n",
    "        print('Symptoms:', s[:-2])\n",
    "        \n",
    "p1 = Patient('Thomas', 23)\n",
    "p1.add_Symptom('Headache')\n",
    "p2 = Patient('Carol', 20)\n",
    "p2.add_Symptom('Vomiting', 'Coughing')\n",
    "p3 = Patient('Mike', 25)\n",
    "p3.add_Symptom('Fever', 'Headache', 'Coughing')\n",
    "print(\"=========================\")\n",
    "p1.printPatientDetail()\n",
    "print(\"=========================\")\n",
    "p2.printPatientDetail()\n",
    "print(\"=========================\")\n",
    "p3.printPatientDetail()\n",
    "print(\"=========================\")"
   ]
  },
  {
   "cell_type": "markdown",
   "metadata": {},
   "source": [
    "##### Question 9"
   ]
  },
  {
   "cell_type": "code",
   "execution_count": 9,
   "metadata": {},
   "outputs": [
    {
     "name": "stdout",
     "output_type": "stream",
     "text": [
      "=========================\n",
      "Name: Captain America\n",
      "Partner: Bucky Barnes\n",
      "Super powers: Stamina, Slowed ageing\n",
      "=========================\n",
      "Name: Doctor Strange\n",
      "Partner: Ancient One\n",
      "Super powers: Mastery of magic\n",
      "=========================\n",
      "Name: Iron Man\n",
      "Partner: War Machine\n",
      "Super powers: Genius level intellect, Scientist \n",
      "=========================\n"
     ]
    }
   ],
   "source": [
    "class Avengers:\n",
    "    \n",
    "    def __init__(self,name,partner):\n",
    "        self.name = name\n",
    "        self.partner = partner\n",
    "        \n",
    "    \n",
    "    def super_powers(self,*powers):\n",
    "        self.powers = powers    \n",
    "    \n",
    "    def printAvengersDetail(self):\n",
    "        print('Name:',self.name)\n",
    "        print('Partner:',self.partner)\n",
    "        p = ''\n",
    "        for i in self.powers:\n",
    "            p = p + i + ', '\n",
    "            \n",
    "        print('Super powers:', p[:-2])\n",
    "\n",
    "    \n",
    "    \n",
    "        \n",
    "a1 = Avengers('Captain America', 'Bucky Barnes')\n",
    "a1.super_powers('Stamina', 'Slowed ageing')\n",
    "a2 = Avengers('Doctor Strange', 'Ancient One')\n",
    "a2.super_powers('Mastery of magic')\n",
    "a3 = Avengers('Iron Man', 'War Machine')\n",
    "a3.super_powers('Genius level intellect', 'Scientist ')\n",
    "print(\"=========================\")\n",
    "a1.printAvengersDetail()\n",
    "print(\"=========================\")\n",
    "a2.printAvengersDetail()\n",
    "print(\"=========================\")\n",
    "a3.printAvengersDetail()\n",
    "print(\"=========================\")"
   ]
  },
  {
   "cell_type": "markdown",
   "metadata": {},
   "source": [
    "##### Question 10"
   ]
  },
  {
   "cell_type": "code",
   "execution_count": 10,
   "metadata": {},
   "outputs": [
    {
     "name": "stdout",
     "output_type": "stream",
     "text": [
      "Name: Naruto\n",
      "Rank: Genin\n",
      "Number of mission: 5\n",
      "Salary: 250\n",
      "====================\n",
      "Name: Shikamaru\n",
      "Rank: Genin\n",
      "Number of mission: 0\n",
      "Salary: 0\n",
      "Name: Shikamaru\n",
      "Rank: Chunin\n",
      "Number of mission: 10\n",
      "Salary: 1000\n",
      "====================\n",
      "Name: Neiji\n",
      "Rank: Jonin\n",
      "Number of mission: 5\n",
      "Salary: 2500\n"
     ]
    }
   ],
   "source": [
    "class Shinobi:\n",
    "    \n",
    "    def __init__(self,name,rank,mission = 0):\n",
    "        self.name = name\n",
    "        self.rank = rank\n",
    "        self.mission = mission\n",
    "    \n",
    "    def changeRank(self,rank):\n",
    "        self.rank = rank    \n",
    "    \n",
    "    def calSalary(self,mission=0):\n",
    "        self.mission = mission\n",
    "        \n",
    "    def printInfo(self):\n",
    "        print('Name:',self.name)\n",
    "        print('Rank:',self.rank)\n",
    "        print('Number of mission:',self.mission)\n",
    "        if self.rank=='Genin':\n",
    "            salary = self.mission*50\n",
    "            print(\"Salary:\",salary)\n",
    "            \n",
    "        elif self.rank=='Chunin':\n",
    "            salary = self.mission*100\n",
    "            print(\"Salary:\",salary)\n",
    "            \n",
    "        else:\n",
    "            salary = self.mission*500\n",
    "            print(\"Salary:\",salary)\n",
    "\n",
    "    \n",
    "    \n",
    "        \n",
    "naruto = Shinobi(\"Naruto\", \"Genin\")\n",
    "naruto.calSalary(5)\n",
    "naruto.printInfo()\n",
    "print('====================')\n",
    "shikamaru = Shinobi('Shikamaru', \"Genin\")\n",
    "shikamaru.printInfo()\n",
    "shikamaru.changeRank(\"Chunin\")\n",
    "shikamaru.calSalary(10)\n",
    "shikamaru.printInfo()\n",
    "print('====================')\n",
    "neiji = Shinobi(\"Neiji\", \"Jonin\")\n",
    "neiji.calSalary(5)\n",
    "neiji.printInfo()"
   ]
  },
  {
   "cell_type": "code",
   "execution_count": null,
   "metadata": {},
   "outputs": [],
   "source": []
  }
 ],
 "metadata": {
  "kernelspec": {
   "display_name": "Python 3",
   "language": "python",
   "name": "python3"
  },
  "language_info": {
   "codemirror_mode": {
    "name": "ipython",
    "version": 3
   },
   "file_extension": ".py",
   "mimetype": "text/x-python",
   "name": "python",
   "nbconvert_exporter": "python",
   "pygments_lexer": "ipython3",
   "version": "3.7.6"
  }
 },
 "nbformat": 4,
 "nbformat_minor": 4
}
