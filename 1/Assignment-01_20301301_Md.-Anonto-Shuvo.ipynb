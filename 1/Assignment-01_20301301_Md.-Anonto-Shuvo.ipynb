{
 "cells": [
  {
   "cell_type": "markdown",
   "metadata": {},
   "source": [
    "#### STRING "
   ]
  },
  {
   "cell_type": "markdown",
   "metadata": {},
   "source": [
    "###### Question 01 "
   ]
  },
  {
   "cell_type": "code",
   "execution_count": 3,
   "metadata": {},
   "outputs": [
    {
     "name": "stdout",
     "output_type": "stream",
     "text": [
      "banana\n"
     ]
    }
   ],
   "source": [
    "string = 'BaNaNa'\n",
    "upper = 0\n",
    "lower = 0 \n",
    "for i in string:        \n",
    "    if (i>='A'and i<='Z'): \n",
    "        upper += 1            \n",
    "    if (i>='a'and i<='z'): \n",
    "        lower += 1 \n",
    "if upper > lower :\n",
    "    print(string.upper())\n",
    "else:\n",
    "    print(string.lower())"
   ]
  },
  {
   "cell_type": "markdown",
   "metadata": {},
   "source": [
    "##### Question 2"
   ]
  },
  {
   "cell_type": "code",
   "execution_count": 12,
   "metadata": {},
   "outputs": [
    {
     "name": "stdout",
     "output_type": "stream",
     "text": [
      "MIXED\n"
     ]
    }
   ],
   "source": [
    "string = 'jhg213j213'         \n",
    "word = 0\n",
    "number = 0 \n",
    "for i in string:        \n",
    "    if (i>='A'and i<='Z') or (i>='a'and i<='z'):  \n",
    "        word += 1            \n",
    "    if (i>='0'and i<='9'): \n",
    "        number += 1\n",
    "if word == 0:\n",
    "    print('NUMBER')\n",
    "if number == 0:\n",
    "    print('WORD')\n",
    "if (word != 0 and number != 0):\n",
    "    print('MIXED')"
   ]
  },
  {
   "cell_type": "markdown",
   "metadata": {},
   "source": [
    "##### Question 3"
   ]
  },
  {
   "cell_type": "code",
   "execution_count": 7,
   "metadata": {},
   "outputs": [
    {
     "name": "stdout",
     "output_type": "stream",
     "text": [
      "BLANK\n"
     ]
    }
   ],
   "source": [
    "s1 = \"coDIng\"\n",
    "s2 = ''\n",
    "inBetween = False\n",
    "\n",
    "for i in s1:\n",
    "    if i>= 'A' and i<= 'Z':\n",
    "        \n",
    "        if not inBetween:\n",
    "            \n",
    "            inBetween = True\n",
    "            continue\n",
    "        \n",
    "        else:\n",
    "            \n",
    "            inBetween = False\n",
    "            break\n",
    "    if inBetween:\n",
    "        s2 += i\n",
    "\n",
    "if len(s2) == 0:\n",
    "    print('BLANK')\n",
    "\n",
    "else:    \n",
    "    print(s2)"
   ]
  },
  {
   "cell_type": "markdown",
   "metadata": {},
   "source": [
    "##### Question 4"
   ]
  },
  {
   "cell_type": "code",
   "execution_count": 15,
   "metadata": {},
   "outputs": [
    {
     "name": "stdout",
     "output_type": "stream",
     "text": [
      "This book is not excellent!\n"
     ]
    }
   ],
   "source": [
    "string = \"This book is not too good!\"\n",
    "if ('too good' in string):\n",
    "    print(string.replace(\"too good\", \"excellent\"))\n",
    "else:\n",
    "    print(string)"
   ]
  },
  {
   "cell_type": "markdown",
   "metadata": {},
   "source": [
    "##### Question 5"
   ]
  },
  {
   "cell_type": "code",
   "execution_count": 2,
   "metadata": {},
   "outputs": [
    {
     "name": "stdout",
     "output_type": "stream",
     "text": [
      "hrrhr\n"
     ]
    }
   ],
   "source": [
    "string_1 = 'harry'\n",
    "string_2 = 'hermione'\n",
    "final_string_1 = ''\n",
    "final_string_2 = ''\n",
    "count = 0\n",
    "\n",
    "for i in string_1:\n",
    "    \n",
    "    if i in string_2:\n",
    "        final_string_1 += i \n",
    "        count+=1\n",
    "    \n",
    "for i in string_2:\n",
    "   \n",
    "    if i in string_1:\n",
    "        final_string_2 += i\n",
    "            \n",
    "final_string = final_string_1 + final_string_2\n",
    "            \n",
    "if(count==0):\n",
    "    print(\"Nothing in common.\")\n",
    "else:\n",
    "    print(final_string)"
   ]
  },
  {
   "cell_type": "markdown",
   "metadata": {},
   "source": [
    "##### Question 6"
   ]
  },
  {
   "cell_type": "code",
   "execution_count": 2,
   "metadata": {},
   "outputs": [
    {
     "name": "stdout",
     "output_type": "stream",
     "text": [
      "OK\n"
     ]
    }
   ],
   "source": [
    "string = 'OhMyBR@CU20'\n",
    "upper = 0\n",
    "lower = 0\n",
    "digit = 0\n",
    "special = 0\n",
    "\n",
    "for i in string:\n",
    "    if (i>='A'and i<='Z'):\n",
    "        upper += 1\n",
    "        \n",
    "    elif (i>='a'and i<='z'):\n",
    "        lower += 1\n",
    "    \n",
    "    elif (i>='0'and i<='9'):\n",
    "        digit += 1\n",
    "    \n",
    "    elif (i=='_' or i=='$' or i=='#' or i=='@'):\n",
    "        special += 1\n",
    "\n",
    "if upper == 0:\n",
    "    print(\"Upper character missing\")\n",
    "\n",
    "if lower == 0:\n",
    "    print(\"Lower character missing\")\n",
    "    \n",
    "if digit == 0:\n",
    "    print(\"Digit character missing\")\n",
    "    \n",
    "if special == 0:\n",
    "    print(\"Special character missing\")\n",
    "    \n",
    "if (upper != 0 and lower != 0 and digit !=0 and special != 0):\n",
    "    print('OK')"
   ]
  },
  {
   "cell_type": "markdown",
   "metadata": {},
   "source": [
    "#### LIST"
   ]
  },
  {
   "cell_type": "markdown",
   "metadata": {},
   "source": [
    "##### Question 1"
   ]
  },
  {
   "cell_type": "code",
   "execution_count": 2,
   "metadata": {},
   "outputs": [
    {
     "name": "stdout",
     "output_type": "stream",
     "text": [
      "Enter the elements = 10\n",
      "Enter the elements = 20\n",
      "Enter the elements = 10\n",
      "Enter the elements = 20\n",
      "Enter the elements = 30\n",
      "Enter the elements = 50\n",
      "Enter the elements = 90\n",
      "Enter the elements = stop\n",
      "10 - 2 times\n",
      "20 - 2 times\n",
      "30 - 1 times\n",
      "50 - 1 times\n",
      "90 - 1 times\n"
     ]
    }
   ],
   "source": [
    "my_list = []\n",
    "result = []\n",
    "\n",
    "while True:\n",
    "    x = input('Enter the elements = ')\n",
    "    \n",
    "    if (x == 'stop' or x == 'Stop' or x== 'STOP'):\n",
    "        break\n",
    "    \n",
    "    my_list.append(x)\n",
    "\n",
    "for i in range(len(my_list)):\n",
    "    \n",
    "    if my_list[i] not in result:\n",
    "        result.append(my_list[i])\n",
    "\n",
    "for i in range(len(result)):\n",
    "    print(result[i], \"-\", my_list.count(result[i]), \"times\")"
   ]
  },
  {
   "cell_type": "markdown",
   "metadata": {},
   "source": [
    "##### Question 2"
   ]
  },
  {
   "cell_type": "code",
   "execution_count": 1,
   "metadata": {},
   "outputs": [
    {
     "name": "stdout",
     "output_type": "stream",
     "text": [
      "Enter the no. of lists = 4\n",
      "Enter the elements in the list(use 'space' after each element) = 1 2 3\n",
      "Enter the elements in the list(use 'space' after each element) = 4 5 6\n",
      "Enter the elements in the list(use 'space' after each element) = 10 11 12\n",
      "Enter the elements in the list(use 'space' after each element) = 7 8 9\n",
      "33\n",
      "[10, 11, 12]\n"
     ]
    }
   ],
   "source": [
    "l1 = [] \n",
    "sums = [] \n",
    "j = 0\n",
    "num = int(input('Enter the no. of lists = '))\n",
    "\n",
    "for i in range(num):\n",
    "    l1.append([int(x) for x in input(\"Enter the elements in the list(use 'space' after each element) = \").split(' ')])\n",
    "\n",
    "for x in l1: \n",
    "    sum = 0 \n",
    "        \n",
    "    for y in x: \n",
    "        sum += y      \n",
    "    \n",
    "    sums.append(sum)        \n",
    "\n",
    "largest = sums[0]\n",
    "\n",
    "for j in range(len(sums)):\n",
    "    if (largest < sums[j]):\n",
    "        largest = sums[j]\n",
    "        \n",
    "    j = j+1\n",
    "\n",
    "print(largest)\n",
    "\n",
    "print(l1[sums.index(largest)])"
   ]
  },
  {
   "cell_type": "markdown",
   "metadata": {},
   "source": [
    "##### Question 3"
   ]
  },
  {
   "cell_type": "code",
   "execution_count": 2,
   "metadata": {},
   "outputs": [
    {
     "name": "stdout",
     "output_type": "stream",
     "text": [
      "[6, 8, 10, 9, 12, 15, 18, 24, 30]\n"
     ]
    }
   ],
   "source": [
    "list_1 = [2,3,6]\n",
    "list_2 = [3,4,5]\n",
    "\n",
    "product_list = [] \n",
    "\n",
    "for i in list_1:\n",
    "    \n",
    "    for j in list_2: \n",
    "        product = i * j\n",
    "        product_list.append(product) \n",
    "\n",
    "print(product_list)"
   ]
  },
  {
   "cell_type": "markdown",
   "metadata": {},
   "source": [
    "##### Question 4"
   ]
  },
  {
   "cell_type": "code",
   "execution_count": 2,
   "metadata": {},
   "outputs": [
    {
     "name": "stdout",
     "output_type": "stream",
     "text": [
      "Enter the number of element in list = 5\n",
      "Enter the elements = 1\n",
      "Enter the elements = 4\n",
      "Enter the elements = 2\n",
      "Enter the elements = 3\n",
      "Enter the elements = STOP\n",
      "UB Jumper\n"
     ]
    }
   ],
   "source": [
    "def isUBJumper(values, n):\n",
    "    \n",
    "    x = []\n",
    "    \n",
    "    for i in range(1, n-1):\n",
    "        d = abs(values[i] - values[i+1])\n",
    "\n",
    "        if (d > n-1 or d in x):\n",
    "            return False\n",
    "        else:\n",
    "            x.append(d)\n",
    "    return True\n",
    "\n",
    "my_list = []\n",
    "i = 1\n",
    "quan = int(input('Enter the number of element in list = '))\n",
    "\n",
    "while i<=quan:\n",
    "    \n",
    "    x = input('Enter the elements = ')\n",
    "    \n",
    "    if (x == 'stop' or x == 'Stop' or x== 'STOP'):\n",
    "        break\n",
    "    \n",
    "    my_list.append(x)\n",
    "    i = i+1\n",
    "\n",
    "for i in range(0, len(my_list)): \n",
    "    my_list[i] = int(my_list[i])\n",
    "\n",
    "n = len(my_list)  \n",
    "        \n",
    "if isUBJumper(my_list, n):\n",
    "    print(\"UB Jumper\")\n",
    "    \n",
    "else:\n",
    "    print(\"Not UB Jumper\")"
   ]
  },
  {
   "cell_type": "markdown",
   "metadata": {},
   "source": [
    "##### Question 5"
   ]
  },
  {
   "cell_type": "code",
   "execution_count": 3,
   "metadata": {},
   "outputs": [
    {
     "name": "stdout",
     "output_type": "stream",
     "text": [
      "acruB1324\n"
     ]
    }
   ],
   "source": [
    "a = 'Bracu1234'\n",
    "\n",
    "upper = []\n",
    "lower = []\n",
    "even = []\n",
    "odd = []\n",
    "\n",
    "for i in a:\n",
    "    if i >='A' and i<='Z':\n",
    "        upper.append(i)\n",
    "        \n",
    "    if i >='a' and i<='z':\n",
    "        lower.append(i)\n",
    "       \n",
    "    if i>='0' and i <= '9':\n",
    "        if int(i)%2 == 0:\n",
    "            even.append(i)\n",
    "        else:\n",
    "            odd.append(i)\n",
    "            \n",
    "def sorted_list(my_list):\n",
    "    \n",
    "    for i in range(len(my_list)-1,0,-1):\n",
    "        for j in range(i):\n",
    "            if my_list[j]>my_list[j+1]:\n",
    "                temp = my_list[j]\n",
    "                my_list[j]=my_list[j+1]\n",
    "                my_list[j+1]=temp\n",
    "\n",
    "    return\n",
    "sorted_list(upper)\n",
    "sorted_list(lower)\n",
    "sorted_list(odd)\n",
    "sorted_list(even)\n",
    "\n",
    "print(\"\".join(lower+upper+odd+even))"
   ]
  },
  {
   "cell_type": "markdown",
   "metadata": {},
   "source": [
    "##### Question 6"
   ]
  },
  {
   "cell_type": "code",
   "execution_count": 3,
   "metadata": {},
   "outputs": [
    {
     "name": "stdout",
     "output_type": "stream",
     "text": [
      "Enter the number of participants = 5\n",
      "Enter the number of participation = 2\n",
      "Previous participation by each participant  = 0\n",
      "Previous participation by each participant  = 4\n",
      "Previous participation by each participant  = 5\n",
      "Previous participation by each participant  = 1\n",
      "Previous participation by each participant  = 0\n",
      "Teams can be formed  1\n"
     ]
    }
   ],
   "source": [
    "num1 = int(input('Enter the number of participants = '))\n",
    "num2 = int(input('Enter the number of participation = '))\n",
    "l1 = []\n",
    "count = 0\n",
    "i=0\n",
    "\n",
    "while i<num1:\n",
    "    x = int(input('Previous participation by each participant  = '))\n",
    "    l1.append(x)\n",
    "    i += 1\n",
    "\n",
    "\n",
    "for index in l1:\n",
    "    \n",
    "    if 5-index>=num2:\n",
    "        \n",
    "        count+=1\n",
    "\n",
    "count1 = count//3\n",
    "            \n",
    "print('Teams can be formed ',count1)"
   ]
  },
  {
   "cell_type": "markdown",
   "metadata": {},
   "source": [
    "#### Dictionary and Tuple"
   ]
  },
  {
   "cell_type": "markdown",
   "metadata": {},
   "source": [
    "##### Question 1"
   ]
  },
  {
   "cell_type": "code",
   "execution_count": 1,
   "metadata": {},
   "outputs": [
    {
     "name": "stdout",
     "output_type": "stream",
     "text": [
      "Enter number of elements for 1st dictionary = 4\n",
      "Enter Key = a\n",
      "Enter Value = 100\n",
      "Enter Key = b\n",
      "Enter Value = 100\n",
      "Enter Key = c\n",
      "Enter Value = 200\n",
      "Enter Key = d\n",
      "Enter Value = 300\n",
      "Enter number of elements for 2nd dictionary = 4\n",
      "Enter Key = a\n",
      "Enter Value = 300\n",
      "Enter Key = b\n",
      "Enter Value = 200\n",
      "Enter Key = d\n",
      "Enter Value = 400\n",
      "Enter Key = e\n",
      "Enter Value = 200\n",
      "{'a': 400, 'b': 300, 'c': 200, 'd': 700, 'e': 200}\n",
      "Values: (200, 300, 400, 700)\n"
     ]
    }
   ],
   "source": [
    "dict1 = {}\n",
    "dict2 = {}\n",
    "\n",
    "n1 = int(input(\"Enter number of elements for 1st dictionary = \"))\n",
    "\n",
    "for i in range(n1):\n",
    "    k = input(\"Enter Key = \")\n",
    "    v = int(input(\"Enter Value = \"))\n",
    "    dict1.update({k:v})\n",
    "\n",
    "n2 = int(input(\"Enter number of elements for 2nd dictionary = \"))\n",
    "\n",
    "for i in range(n2):\n",
    "    k = input(\"Enter Key = \")\n",
    "    v = int(input(\"Enter Value = \"))\n",
    "    dict2.update({k:v})\n",
    "    \n",
    "dict3 = dict1.copy()\n",
    "dict3.update(dict2) \n",
    "  \n",
    "for key in dict2: \n",
    "    if key in dict1: \n",
    "        dict3[key] = dict2[key] + dict1[key] \n",
    "    \n",
    "print(dict3)\n",
    "\n",
    "l = []\n",
    "\n",
    "for value in dict3.values():\n",
    "    l.append(value)\n",
    "\n",
    "unique_l = []\n",
    "\n",
    "for i in l: \n",
    "    if i not in unique_l: \n",
    "        unique_l.append(i) \n",
    "\n",
    "def sorted_list(my_list):\n",
    "    \n",
    "    for i in range(len(my_list)-1,0,-1):\n",
    "        for j in range(i):\n",
    "            if my_list[j]>my_list[j+1]:\n",
    "                temp = my_list[j]\n",
    "                my_list[j]=my_list[j+1]\n",
    "                my_list[j+1]=temp\n",
    "\n",
    "    return\n",
    "sorted_list(unique_l)\n",
    "\n",
    "tuple_1 = tuple(unique_l)\n",
    "print('Values:', tuple_1)"
   ]
  },
  {
   "cell_type": "markdown",
   "metadata": {},
   "source": [
    "##### Question 2"
   ]
  },
  {
   "cell_type": "code",
   "execution_count": 4,
   "metadata": {},
   "outputs": [
    {
     "name": "stdout",
     "output_type": "stream",
     "text": [
      "Enter the elements = 10\n",
      "Enter the elements = 20\n",
      "Enter the elements = 30\n",
      "Enter the elements = 10\n",
      "Enter the elements = 20\n",
      "Enter the elements = 50\n",
      "Enter the elements = 90\n",
      "Enter the elements = STOP\n",
      "10 - 2 times\n",
      "20 - 2 times\n",
      "30 - 1 times\n",
      "50 - 1 times\n",
      "90 - 1 times\n"
     ]
    }
   ],
   "source": [
    "my_list = []\n",
    "\n",
    "while True:\n",
    "    x = input('Enter the elements = ')\n",
    "    \n",
    "    if (x == 'stop' or x == 'Stop' or x== 'STOP'):\n",
    "        break\n",
    "    \n",
    "    my_list.append(x)\n",
    "\n",
    "freq = {}\n",
    "\n",
    "for item in my_list:\n",
    "\n",
    "    if item in freq:\n",
    "\n",
    "        freq[item] += 1\n",
    "\n",
    "    else:\n",
    "\n",
    "        freq[item] = 1\n",
    "        \n",
    "for key,value in freq.items():\n",
    "    print(key , '-' , value, 'times'  )"
   ]
  },
  {
   "cell_type": "markdown",
   "metadata": {},
   "source": [
    "##### Question 3"
   ]
  },
  {
   "cell_type": "code",
   "execution_count": 5,
   "metadata": {},
   "outputs": [
    {
     "name": "stdout",
     "output_type": "stream",
     "text": [
      "{'value1': ['key1', 'key3'], 'value2': ['key2']}\n"
     ]
    }
   ],
   "source": [
    "key_to_value = {'key1' : 'value1', 'key2' : 'value2', 'key3' : 'value1'}\n",
    "\n",
    "value_to_key = {}\n",
    "\n",
    "for key in key_to_value:\n",
    "    value = key_to_value[key]\n",
    "    \n",
    "    if not (value in value_to_key):\n",
    "        value_to_key[value] = [key]\n",
    "        \n",
    "    else:\n",
    "        value_to_key[value].append(key)\n",
    "        \n",
    "print(value_to_key)"
   ]
  },
  {
   "cell_type": "markdown",
   "metadata": {},
   "source": [
    "##### Question 4"
   ]
  },
  {
   "cell_type": "code",
   "execution_count": 6,
   "metadata": {},
   "outputs": [
    {
     "name": "stdout",
     "output_type": "stream",
     "text": [
      "Those strings are anagrams.\n"
     ]
    }
   ],
   "source": [
    "def Anagrams(s1,s2):\n",
    "    s1 = s1.replace(' ','').lower()\n",
    "    s2 = s2.replace(' ','').lower()\n",
    "    \n",
    "    dict1 = {}\n",
    "    \n",
    "    if len(s1) != len(s2):\n",
    "        return 'Those strings are not anagrams.'\n",
    "    \n",
    "    for letter in s1:\n",
    "        if letter in dict1:\n",
    "            dict1[letter] += 1\n",
    "        \n",
    "        else:\n",
    "            dict1[letter] = 1\n",
    "    \n",
    "    for letter in s1:\n",
    "        if letter in dict1:\n",
    "            dict1[letter] -= 1\n",
    "        \n",
    "        else:\n",
    "            dict1[letter] = 1\n",
    "    \n",
    "    for k in dict1:\n",
    "        if dict1[k] != 0:\n",
    "            return 'Those strings are not anagrams.'\n",
    "            \n",
    "    return 'Those strings are anagrams.'\n",
    "    \n",
    "print(Anagrams('evil','live')) "
   ]
  },
  {
   "cell_type": "markdown",
   "metadata": {},
   "source": [
    "##### Question 5"
   ]
  },
  {
   "cell_type": "code",
   "execution_count": 6,
   "metadata": {},
   "outputs": [
    {
     "name": "stdout",
     "output_type": "stream",
     "text": [
      "Please input a text = Hello, World!\n",
      "4433555555666110966677755531111"
     ]
    }
   ],
   "source": [
    "dict_1 = {\n",
    "1:'.,?!:',\n",
    "2:'ABC',\n",
    "3:'DEF',\n",
    "4:'GHI',\n",
    "5:'JKL',\n",
    "6:'MNO',\n",
    "7:'PQRS',\n",
    "8:'TUV',\n",
    "9:'WXYZ',\n",
    "0:' '\n",
    "}\n",
    "\n",
    "text = input(\"Please input a text = \").upper()\n",
    "\n",
    "for index in range(len(text)):\n",
    "    for key,value in dict_1.items():\n",
    "        if text[index] in value:\n",
    "            l1=list(value)\n",
    "            \n",
    "            for i in range(len(l1)):\n",
    "                if text[index] == l1[i]:\n",
    "                    b = str(key)*(i+1)\n",
    "                    print(b,end='')"
   ]
  },
  {
   "cell_type": "code",
   "execution_count": null,
   "metadata": {},
   "outputs": [],
   "source": []
  }
 ],
 "metadata": {
  "kernelspec": {
   "display_name": "Python 3",
   "language": "python",
   "name": "python3"
  },
  "language_info": {
   "codemirror_mode": {
    "name": "ipython",
    "version": 3
   },
   "file_extension": ".py",
   "mimetype": "text/x-python",
   "name": "python",
   "nbconvert_exporter": "python",
   "pygments_lexer": "ipython3",
   "version": "3.7.6"
  }
 },
 "nbformat": 4,
 "nbformat_minor": 4
}
