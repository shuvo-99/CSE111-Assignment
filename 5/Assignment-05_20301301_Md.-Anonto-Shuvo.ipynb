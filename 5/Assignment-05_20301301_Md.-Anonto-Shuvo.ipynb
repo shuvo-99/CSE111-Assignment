{
 "cells": [
  {
   "cell_type": "markdown",
   "metadata": {},
   "source": [
    "##### Question 1"
   ]
  },
  {
   "cell_type": "code",
   "execution_count": 5,
   "metadata": {},
   "outputs": [
    {
     "name": "stdout",
     "output_type": "stream",
     "text": [
      "Quiz 1 (out of 10): 10\n",
      "Quiz 2 (out of 10): 10\n",
      "Lab (out of 30): 30\n",
      "Mid (out of 20): 20\n",
      "Final (out of 30): 30\n",
      "Total marks: 100\n"
     ]
    }
   ],
   "source": [
    "class Marks:\n",
    "    \n",
    "    def __init__(self,mark):\n",
    "        self.mark = mark\n",
    "        \n",
    "    def __add__(self,other):\n",
    "        return Marks(self.mark + other.mark)    \n",
    "\n",
    "Q1 = Marks(int(input(\"Quiz 1 (out of 10): \")))\n",
    "Q2 = Marks(int(input(\"Quiz 2 (out of 10): \")))\n",
    "Lab = Marks(int(input(\"Lab (out of 30): \")))\n",
    "Mid = Marks(int(input(\"Mid (out of 20): \")))\n",
    "Final = Marks(int(input(\"Final (out of 30): \")))\n",
    "total = Q1 + Q2 + Lab + Mid + Final\n",
    "print(\"Total marks: {}\".format(total.mark))"
   ]
  },
  {
   "cell_type": "markdown",
   "metadata": {},
   "source": [
    "##### Question 2"
   ]
  },
  {
   "cell_type": "code",
   "execution_count": 6,
   "metadata": {},
   "outputs": [
    {
     "name": "stdout",
     "output_type": "stream",
     "text": [
      "=====================================\n",
      "Name: Saad Abdullah\n",
      "Department: CSE\n",
      "List of courses\n",
      "=====================================\n",
      "CSE 110 Programming Language I\n",
      "CSE 111 Programming Language-II\n",
      "=====================================\n",
      "=====================================\n",
      "Name: Mumit Khan\n",
      "Department: CSE\n",
      "List of courses\n",
      "=====================================\n",
      "CSE 220 Data Structures\n",
      "CSE 221 Algorithms\n",
      "CCSE 230 Discrete Mathematics\n",
      "=====================================\n",
      "=====================================\n",
      "Name: Sadia Kazi\n",
      "Department: CSE\n",
      "List of courses\n",
      "=====================================\n",
      "CSE 310 Object Oriented Programming\n",
      "CSE 320 Data Communications\n",
      "CSE 340 Computer Architecture\n",
      "=====================================\n"
     ]
    }
   ],
   "source": [
    "class Teacher:\n",
    "    \n",
    "    def __init__(self,name,dept):\n",
    "        self.__name = name\n",
    "        self.__dept = dept\n",
    "        self.__lst = []\n",
    "        \n",
    "    def addCourse(self,obj):\n",
    "        self.__lst.append(obj.course)\n",
    "        \n",
    "    def printDetail(self):\n",
    "        print(\"=====================================\")\n",
    "        print(\"Name:\",self.__name)\n",
    "        print(\"Department:\",self.__dept)\n",
    "        print(\"List of courses\")\n",
    "        print(\"=====================================\")\n",
    "        \n",
    "        index = 0\n",
    "        while index<len(self.__lst):\n",
    "            print(self.__lst[index])\n",
    "            index += 1\n",
    "        print(\"=====================================\")    \n",
    "        \n",
    "class Course:\n",
    "    \n",
    "    def __init__(self,course):\n",
    "        self.course = course        \n",
    "\n",
    "t1 = Teacher(\"Saad Abdullah\", \"CSE\")\n",
    "t2 = Teacher(\"Mumit Khan\", \"CSE\")\n",
    "t3 = Teacher(\"Sadia Kazi\", \"CSE\")\n",
    "c1 = Course(\"CSE 110 Programming Language I\")\n",
    "c2 = Course(\"CSE 111 Programming Language-II\")\n",
    "c3 = Course(\"CSE 220 Data Structures\")\n",
    "c4 = Course(\"CSE 221 Algorithms\")\n",
    "c5 = Course(\"CCSE 230 Discrete Mathematics\")\n",
    "c6 = Course(\"CSE 310 Object Oriented Programming\")\n",
    "c7 = Course(\"CSE 320 Data Communications\")\n",
    "c8 = Course(\"CSE 340 Computer Architecture\")\n",
    "t1.addCourse(c1)\n",
    "t1.addCourse(c2)\n",
    "t2.addCourse(c3)\n",
    "t2.addCourse(c4)\n",
    "t2.addCourse(c5)\n",
    "t3.addCourse(c6)\n",
    "t3.addCourse(c7)\n",
    "t3.addCourse(c8)\n",
    "t1.printDetail()\n",
    "t2.printDetail()\n",
    "t3.printDetail()"
   ]
  },
  {
   "cell_type": "markdown",
   "metadata": {},
   "source": [
    "##### Question 3"
   ]
  },
  {
   "cell_type": "code",
   "execution_count": 7,
   "metadata": {},
   "outputs": [
    {
     "name": "stdout",
     "output_type": "stream",
     "text": [
      "=====================================\n",
      "Name: Bangladesh\n",
      "List of players:\n",
      "['Mashrafi', 'Tamim']\n",
      "=====================================\n",
      "=====================================\n",
      "Name: Australia\n",
      "List of players:\n",
      "['Ponting', 'Lee']\n",
      "=====================================\n"
     ]
    }
   ],
   "source": [
    "class Team:\n",
    "    \n",
    "    def __init__(self,name=\"Blank\"):\n",
    "        self.__name = name\n",
    "        self.__lst = []\n",
    "        \n",
    "    def setName(self,name):\n",
    "        self.__name = name\n",
    "        \n",
    "    def addPlayer(self,obj):\n",
    "        self.__lst.append(obj.player)\n",
    "        \n",
    "    def printDetail(self):\n",
    "        print(\"=====================================\")\n",
    "        print(\"Name:\",self.__name)\n",
    "        print(\"List of players:\")\n",
    "        print(self.__lst)\n",
    "        print(\"=====================================\")\n",
    "         \n",
    "class Player:\n",
    "    \n",
    "    def __init__(self,player):\n",
    "        self.player = player        \n",
    "\n",
    "b = Team()\n",
    "b.setName('Bangladesh')\n",
    "mashrafi = Player(\"Mashrafi\")\n",
    "b.addPlayer(mashrafi)\n",
    "tamim = Player(\"Tamim\")\n",
    "b.addPlayer(tamim)\n",
    "b.printDetail()\n",
    "a = Team(\"Australia\")\n",
    "ponting = Player(\"Ponting\")\n",
    "a.addPlayer(ponting)\n",
    "lee = Player(\"Lee\")\n",
    "a.addPlayer(lee)\n",
    "a.printDetail()"
   ]
  },
  {
   "cell_type": "markdown",
   "metadata": {},
   "source": [
    "##### Question 4"
   ]
  },
  {
   "cell_type": "code",
   "execution_count": 8,
   "metadata": {},
   "outputs": [
    {
     "name": "stdout",
     "output_type": "stream",
     "text": [
      "First Color: red\n",
      "Second Color: blue\n",
      "Color formed: Violet\n"
     ]
    }
   ],
   "source": [
    "class Color:\n",
    "    \n",
    "    def __init__(self,clr):\n",
    "        self.clr = clr\n",
    "        \n",
    "    def __add__(self,other):\n",
    "        \n",
    "        color = self.clr + other.clr\n",
    "        \n",
    "        if (self.clr == 'red' and other.clr == 'yellow') or (self.clr == 'yellow' and other.clr == 'red'):\n",
    "            clr = 'Orange'\n",
    "            obj = Color(clr)\n",
    "            return obj\n",
    "        \n",
    "        elif (self.clr == 'red' and other.clr == 'blue') or (self.clr == 'blue' and other.clr == 'red'):\n",
    "            clr = 'Violet'\n",
    "            obj = Color(clr)\n",
    "            return obj\n",
    "        \n",
    "        elif (self.clr == 'yellow' and other.clr == 'blue') or (self.clr == 'blue' and other.clr == 'yellow'):\n",
    "            clr = 'Green'\n",
    "            obj = Color(clr)\n",
    "            return obj\n",
    "            \n",
    "C1 = Color(input(\"First Color: \").lower())\n",
    "C2 = Color(input(\"Second Color: \").lower())\n",
    "C3 = C1 + C2\n",
    "print(\"Color formed:\", C3.clr)"
   ]
  },
  {
   "cell_type": "markdown",
   "metadata": {},
   "source": [
    "##### Question 5"
   ]
  },
  {
   "cell_type": "code",
   "execution_count": 9,
   "metadata": {},
   "outputs": [
    {
     "name": "stdout",
     "output_type": "stream",
     "text": [
      "First circle radius: 4\n",
      "First circle area: 50.26548245743669\n",
      "Second circle radius: 5\n",
      "Second circle area: 78.53981633974483\n",
      "Third circle radius: 9\n",
      "Third circle area: 254.46900494077323\n"
     ]
    }
   ],
   "source": [
    "from math import pi\n",
    "class Circle:\n",
    "    \n",
    "    def __init__(self,value):\n",
    "        self.__value = value\n",
    "        \n",
    "    def setRadius(self,value):\n",
    "        self.__value = value\n",
    "        \n",
    "    def getRadius(self):\n",
    "        return self.__value  \n",
    "        \n",
    "    def area(self):\n",
    "        return  pi*self.__value*self.__value\n",
    "    \n",
    "    def __add__(self,other):\n",
    "        n = self.__value + other.__value  \n",
    "        obj = Circle(n)\n",
    "        return obj\n",
    "        \n",
    "\n",
    "c1 = Circle(4) \n",
    "print(\"First circle radius:\" , c1.getRadius()) \n",
    "print(\"First circle area:\" ,c1.area()) \n",
    "c2 = Circle(5) \n",
    "print(\"Second circle radius:\" ,c2.getRadius()) \n",
    "print(\"Second circle area:\" ,c2.area()) \n",
    "c3 = c1 + c2 \n",
    "print(\"Third circle radius:\" ,c3.getRadius()) \n",
    "print(\"Third circle area:\" ,c3.area())"
   ]
  },
  {
   "cell_type": "markdown",
   "metadata": {},
   "source": [
    "##### Question 6"
   ]
  },
  {
   "cell_type": "code",
   "execution_count": 10,
   "metadata": {},
   "outputs": [
    {
     "name": "stdout",
     "output_type": "stream",
     "text": [
      "First Triangle Base: 10\n",
      "First Triangle Height: 5\n",
      "First Triangle area: 25.0\n",
      "Second Triangle Base: 5\n",
      "Second Triangle Height: 3\n",
      "Second Triangle area: 7.5\n",
      "Third Triangle Base: 5\n",
      "Third Triangle Height: 2\n",
      "Third Triangle area: 5.0\n"
     ]
    }
   ],
   "source": [
    "class Triangle:\n",
    "    \n",
    "    def __init__(self,base,height):\n",
    "        self.__base = base\n",
    "        self.__height = height\n",
    "        \n",
    "    def setBase(self,value):\n",
    "        self.__base = base\n",
    "        \n",
    "    def getBase(self):\n",
    "        return self.__base  \n",
    "        \n",
    "    def setHeight(self,value):\n",
    "        self.__height = height\n",
    "        \n",
    "    def getHeight(self):\n",
    "        return self.__height    \n",
    "        \n",
    "    def area(self):\n",
    "        return  float(0.5*self.__base*self.__height)\n",
    "    \n",
    "    def __sub__(self,other):\n",
    "        new_base = self.__base - other.__base  \n",
    "        new_height = self.__height - other.__height \n",
    "        obj = Triangle(new_base,new_height)\n",
    "        return obj\n",
    "        \n",
    "\n",
    "t1 = Triangle(10, 5) \n",
    "print(\"First Triangle Base:\" , t1.getBase()) \n",
    "print(\"First Triangle Height:\" , t1.getHeight()) \n",
    "print(\"First Triangle area:\" ,t1.area()) \n",
    "t2 = Triangle(5, 3) \n",
    "print(\"Second Triangle Base:\" , t2.getBase()) \n",
    "print(\"Second Triangle Height:\" , t2.getHeight()) \n",
    "print(\"Second Triangle area:\" ,t2.area()) \n",
    "t3 = t1 - t2 \n",
    "print(\"Third Triangle Base:\" , t3.getBase()) \n",
    "print(\"Third Triangle Height:\" , t3.getHeight()) \n",
    "print(\"Third Triangle area:\" ,t3.area())"
   ]
  },
  {
   "cell_type": "markdown",
   "metadata": {},
   "source": [
    "##### Question 7"
   ]
  },
  {
   "cell_type": "code",
   "execution_count": 11,
   "metadata": {},
   "outputs": [
    {
     "name": "stdout",
     "output_type": "stream",
     "text": [
      "Doll:Tweety\n",
      "Total Price:2500taka\n",
      "Thank you!\n",
      "=========================\n",
      "Doll:Daffy Duck\n",
      "Total Price:1800taka\n",
      "Thank you!\n",
      "=========================\n",
      "Doll:Bugs Bunny\n",
      "Total Price:3000taka\n",
      "Congratulations! You get the Tweety as a gift!\n",
      "=========================\n",
      "Doll:Porky Pig\n",
      "Total Price:1500taka\n",
      "Thank you!\n",
      "=========================\n",
      "Dolls:Daffy DuckBugs Bunny\n",
      "Total Price:4800taka\n",
      "Congratulations! You get the Tweety as a gift!\n"
     ]
    }
   ],
   "source": [
    "class Dolls:\n",
    "    \n",
    "    def __init__(self,doll,price):\n",
    "        self.doll = doll\n",
    "        self.price = price\n",
    "        self.count = 0\n",
    "        \n",
    "    def detail(self):\n",
    "        if self.count == 0:\n",
    "            print(\"Doll:\"+ self.doll)\n",
    "            return(\"Total Price:\" +str(self.price) + 'taka')\n",
    "        else:\n",
    "            print(\"Dolls:\"+ self.doll)\n",
    "            return(\"Total Price:\" +str(self.price) + 'taka')\n",
    "\n",
    "    def __gt__(self,other):\n",
    "        \n",
    "        if (self.price > other.price):\n",
    "            return True\n",
    "        else:\n",
    "            return False\n",
    "        \n",
    "    def __add__(self,other):\n",
    "        new_doll = self.doll + other.doll  \n",
    "        new_price = self.price + other.price \n",
    "        obj = Dolls(new_doll,new_price)\n",
    "        obj.count = 1\n",
    "        return obj\n",
    "        \n",
    "\n",
    "obj_1 = Dolls(\"Tweety\", 2500)\n",
    "print(obj_1.detail())\n",
    "if obj_1 > obj_1:\n",
    "    print(\"Congratulations! You get the Tweety as a gift!\")\n",
    "else:\n",
    "    print(\"Thank you!\")\n",
    "print(\"=========================\")\n",
    "obj_2 = Dolls(\"Daffy Duck\", 1800)\n",
    "print(obj_2.detail())\n",
    "if obj_2 > obj_1:\n",
    "    print(\"Congratulations! You get the Tweety as a gift!\")\n",
    "else:\n",
    "    print(\"Thank you!\")\n",
    "print(\"=========================\")\n",
    "obj_3 = Dolls(\"Bugs Bunny\", 3000)\n",
    "print(obj_3.detail())\n",
    "if obj_3 > obj_1:\n",
    "    print(\"Congratulations! You get the Tweety as a gift!\")\n",
    "else:\n",
    "    print(\"Thank you!\")\n",
    "print(\"=========================\")\n",
    "obj_4 = Dolls(\"Porky Pig\", 1500)\n",
    "print(obj_4.detail())\n",
    "if obj_4 > obj_1:\n",
    "    print(\"Congratulations! You get the Tweety as a gift!\")\n",
    "else:\n",
    "    print(\"Thank you!\")\n",
    "print(\"=========================\")\n",
    "obj_5 = obj_2 + obj_3\n",
    "print(obj_5.detail())\n",
    "if obj_5 > obj_1:\n",
    "    print(\"Congratulations! You get the Tweety as a gift!\")\n",
    "else:\n",
    "    print(\"Thank you!\")"
   ]
  },
  {
   "cell_type": "markdown",
   "metadata": {},
   "source": [
    "##### Question 8"
   ]
  },
  {
   "cell_type": "code",
   "execution_count": 12,
   "metadata": {},
   "outputs": [
    {
     "name": "stdout",
     "output_type": "stream",
     "text": [
      "1\n",
      "2\n",
      "3\n",
      "4\n",
      "(-2, -2)\n",
      "(3, 8)\n",
      "The calculated coordinates are NOT the same.\n"
     ]
    }
   ],
   "source": [
    "class Coordinates:\n",
    "    \n",
    "    def __init__(self,num1,num2):\n",
    "        self.num1 = num1\n",
    "        self.num2 = num2\n",
    "        \n",
    "    def detail(self):\n",
    "        \n",
    "        return (self.num1,self.num2)\n",
    "        \n",
    "\n",
    "    def __sub__(self,other):\n",
    "        new_num1 = self.num1 - other.num1  \n",
    "        new_num2 = self.num2 - other.num2 \n",
    "        obj = Coordinates(new_num1,new_num2)\n",
    "        return obj\n",
    "    \n",
    "    def __mul__(self,other):\n",
    "        new_num3 = self.num1 * other.num1  \n",
    "        new_num4 = self.num2 * other.num2 \n",
    "        obj2 = Coordinates(new_num3,new_num4)\n",
    "        return obj2\n",
    "    \n",
    "    def __eq__(self,other):\n",
    "        if (self.num1==other.num1) and (self.num2==other.num2):\n",
    "            return \"The calculated coordinates are the same.\"\n",
    "        else:\n",
    "            return \"The calculated coordinates are NOT the same.\"\n",
    "\n",
    "p1 = Coordinates(int(input()),int(input()))\n",
    "p2 = Coordinates(int(input()),int(input()))\n",
    "p4 = p1 - p2\n",
    "print(p4.detail())\n",
    "p5 = p1 * p2\n",
    "print(p5.detail())\n",
    "point_check = (p4 == p5)\n",
    "print(point_check)"
   ]
  },
  {
   "cell_type": "code",
   "execution_count": null,
   "metadata": {},
   "outputs": [],
   "source": []
  }
 ],
 "metadata": {
  "kernelspec": {
   "display_name": "Python 3",
   "language": "python",
   "name": "python3"
  },
  "language_info": {
   "codemirror_mode": {
    "name": "ipython",
    "version": 3
   },
   "file_extension": ".py",
   "mimetype": "text/x-python",
   "name": "python",
   "nbconvert_exporter": "python",
   "pygments_lexer": "ipython3",
   "version": "3.7.6"
  }
 },
 "nbformat": 4,
 "nbformat_minor": 4
}
